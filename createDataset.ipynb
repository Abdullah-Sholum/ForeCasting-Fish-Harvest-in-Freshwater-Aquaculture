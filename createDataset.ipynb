{
 "cells": [
  {
   "cell_type": "code",
   "execution_count": 37,
   "metadata": {},
   "outputs": [
    {
     "name": "stderr",
     "output_type": "stream",
     "text": [
      "'import' is not recognized as an internal or external command,\n",
      "operable program or batch file.\n"
     ]
    }
   ],
   "source": [
    "!import pandas as pd"
   ]
  },
  {
   "cell_type": "code",
   "execution_count": 38,
   "metadata": {},
   "outputs": [],
   "source": [
    "# Data tabel yang telah diperbarui dengan berat ikan per ekor\n",
    "data = [\n",
    "    [1, \"Ikan Gurame\", 4000, 4000, 3600000, 900, \"1 Januari 2023\", 88, 27720000, 315000, 1938, 45499000, 23500, 10, \"1 November 2023\", \"600-800 gram\"],\n",
    "]"
   ]
  },
  {
   "cell_type": "code",
   "execution_count": 39,
   "metadata": {},
   "outputs": [],
   "source": [
    "# Kolom untuk header\n",
    "columns = [\n",
    "    \"no\",\n",
    "    \"Jenis Ikan\",\n",
    "    \"Jumlah Ikan per Kolam\",\n",
    "    \"Jumlah Benih per Kolam\", \n",
    "    \"Harga Benih per Kolam (Rp)\",\n",
    "    \"Harga Benih per Ekor (Rp)\",\n",
    "    \"Tanggal Penyeburan Benih\", \n",
    "    \"Total Pakan per Kolam (sak)\",\n",
    "    \"Harga Pakan per Kolam (Rp)\",\n",
    "    \"Harga Pakan per Sak (Rp)\", \n",
    "    \"Total Hasil Panen (kg)\",\n",
    "    \"Hasil Panen (Rp)\",\n",
    "    \"Harga Ikan per kg (Rp)\",\n",
    "    \"Masa Budidaya (bulan)\",\n",
    "    \"Tanggal Panen\",\n",
    "    \"Berat Ikan per Ekor (gram)\"\n",
    "]"
   ]
  },
  {
   "cell_type": "code",
   "execution_count": 40,
   "metadata": {},
   "outputs": [],
   "source": [
    "# Membuat DataFrame dari data\n",
    "df = pd.DataFrame(data, columns=columns)"
   ]
  },
  {
   "cell_type": "code",
   "execution_count": 41,
   "metadata": {},
   "outputs": [],
   "source": [
    "# Menyimpan DataFrame ke file CSV\n",
    "df.to_csv('dataset/data_perikanan.csv', index=False, encoding='utf-8')"
   ]
  },
  {
   "cell_type": "code",
   "execution_count": 42,
   "metadata": {},
   "outputs": [
    {
     "name": "stdout",
     "output_type": "stream",
     "text": [
      "File data_perikanan.csv telah berhasil dibuat.\n"
     ]
    }
   ],
   "source": [
    "print(\"File data_perikanan.csv telah berhasil dibuat.\")"
   ]
  }
 ],
 "metadata": {
  "kernelspec": {
   "display_name": "Python 3",
   "language": "python",
   "name": "python3"
  },
  "language_info": {
   "codemirror_mode": {
    "name": "ipython",
    "version": 3
   },
   "file_extension": ".py",
   "mimetype": "text/x-python",
   "name": "python",
   "nbconvert_exporter": "python",
   "pygments_lexer": "ipython3",
   "version": "3.10.11"
  }
 },
 "nbformat": 4,
 "nbformat_minor": 2
}
